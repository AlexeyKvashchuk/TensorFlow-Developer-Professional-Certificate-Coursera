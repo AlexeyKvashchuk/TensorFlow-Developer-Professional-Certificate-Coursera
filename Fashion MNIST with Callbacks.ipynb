{
 "cells": [
  {
   "cell_type": "code",
   "execution_count": null,
   "metadata": {
    "id": "U2TolpSatzz0"
   },
   "outputs": [],
   "source": [
    "import tensorflow as tf\n",
    "from tensorflow import keras\n",
    "import numpy as np"
   ]
  },
  {
   "cell_type": "code",
   "execution_count": null,
   "metadata": {
    "id": "mKUIts7dt0co"
   },
   "outputs": [],
   "source": [
    "mnist = keras.datasets.fashion_mnist"
   ]
  },
  {
   "cell_type": "code",
   "execution_count": null,
   "metadata": {
    "id": "Y_nu9zHzzUDL"
   },
   "outputs": [],
   "source": [
    "((trainX, trainY), (testX, testY)) = mnist.load_data()"
   ]
  },
  {
   "cell_type": "code",
   "execution_count": null,
   "metadata": {
    "id": "_iyfDgGv6X2J"
   },
   "outputs": [],
   "source": [
    "import matplotlib.pyplot as plt"
   ]
  },
  {
   "cell_type": "code",
   "execution_count": null,
   "metadata": {
    "colab": {
     "base_uri": "https://localhost:8080/",
     "height": 283
    },
    "executionInfo": {
     "elapsed": 121,
     "status": "ok",
     "timestamp": 1634151368466,
     "user": {
      "displayName": "Alexei Kvaschuk",
      "photoUrl": "https://lh3.googleusercontent.com/a/default-user=s64",
      "userId": "17144558416028762237"
     },
     "user_tz": 240
    },
    "id": "MoR8RveJ6X53",
    "outputId": "290d5380-ebce-4c59-bac8-ca91270941bb"
   },
   "outputs": [
    {
     "data": {
      "text/plain": [
       "<matplotlib.image.AxesImage at 0x7f9f789fb050>"
      ]
     },
     "execution_count": 46,
     "metadata": {},
     "output_type": "execute_result"
    },
    {
     "data": {
      "image/png": "[encoded data removed]",
      "text/plain": [
       "<Figure size 432x288 with 1 Axes>"
      ]
     },
     "metadata": {
      "needs_background": "light"
     },
     "output_type": "display_data"
    }
   ],
   "source": [
    "plt.imshow(trainX[42])"
   ]
  },
  {
   "cell_type": "code",
   "execution_count": null,
   "metadata": {
    "colab": {
     "base_uri": "https://localhost:8080/"
    },
    "executionInfo": {
     "elapsed": 113,
     "status": "ok",
     "timestamp": 1634151371644,
     "user": {
      "displayName": "Alexei Kvaschuk",
      "photoUrl": "https://lh3.googleusercontent.com/a/default-user=s64",
      "userId": "17144558416028762237"
     },
     "user_tz": 240
    },
    "id": "wQJloUcPzUFt",
    "outputId": "60b0ded0-62ac-464e-8fb4-f0b6f166e317"
   },
   "outputs": [
    {
     "data": {
      "text/plain": [
       "(28, 28)"
      ]
     },
     "execution_count": 47,
     "metadata": {},
     "output_type": "execute_result"
    }
   ],
   "source": [
    "trainX[0].shape"
   ]
  },
  {
   "cell_type": "code",
   "execution_count": null,
   "metadata": {
    "id": "sUFknAYpzUIT"
   },
   "outputs": [],
   "source": [
    "model = keras.Sequential(\n",
    "    [keras.layers.Flatten(input_shape = (28, 28)),\n",
    "     keras.layers.Dense(units = 128, activation='relu'),\n",
    "     keras.layers.Dense(128, activation='relu'),\n",
    "     keras.layers.Dense(10, activation='softmax')\n",
    "    ]\n",
    ")"
   ]
  },
  {
   "cell_type": "code",
   "execution_count": null,
   "metadata": {
    "id": "a25CbI-tzUKu"
   },
   "outputs": [],
   "source": [
    "model.compile(optimizer = 'adam', loss = 'sparse_categorical_crossentropy', metrics=['accuracy'])"
   ]
  },
  {
   "cell_type": "code",
   "execution_count": null,
   "metadata": {
    "id": "lIuesoAUAIs2"
   },
   "outputs": [],
   "source": [
    "class MyCallback(keras.callbacks.Callback):\n",
    "  def on_epoch_end(self, epoch, logs = {}):\n",
    "    if logs['loss'] < 0.4:\n",
    "      print(f'Early stopping on epoch {epoch}')\n",
    "      self.model.stop_training = True\n"
   ]
  },
  {
   "cell_type": "code",
   "execution_count": null,
   "metadata": {
    "id": "eLFGwW_jAIws"
   },
   "outputs": [],
   "source": [
    "callbacks = MyCallback()"
   ]
  },
  {
   "cell_type": "code",
   "execution_count": null,
   "metadata": {
    "id": "cOLtI-Cb5wBT"
   },
   "outputs": [],
   "source": [
    "trainX = trainX / 255.0\n",
    "testX = testX / 255.0"
   ]
  },
  {
   "cell_type": "code",
   "execution_count": null,
   "metadata": {
    "colab": {
     "base_uri": "https://localhost:8080/"
    },
    "executionInfo": {
     "elapsed": 9017,
     "status": "ok",
     "timestamp": 1634151386069,
     "user": {
      "displayName": "Alexei Kvaschuk",
      "photoUrl": "https://lh3.googleusercontent.com/a/default-user=s64",
      "userId": "17144558416028762237"
     },
     "user_tz": 240
    },
    "id": "737rh51lzUNQ",
    "outputId": "842b405e-a8eb-4439-e9ce-28861837016e"
   },
   "outputs": [
    {
     "name": "stdout",
     "output_type": "stream",
     "text": [
      "Epoch 1/10\n",
      "1875/1875 [==============================] - 5s 2ms/step - loss: 0.4844 - accuracy: 0.8273\n",
      "Epoch 2/10\n",
      "1875/1875 [==============================] - 4s 2ms/step - loss: 0.3610 - accuracy: 0.8673\n",
      "Early stopping on epoch 1\n"
     ]
    },
    {
     "data": {
      "text/plain": [
       "<keras.callbacks.History at 0x7f9f789ac8d0>"
      ]
     },
     "execution_count": 53,
     "metadata": {},
     "output_type": "execute_result"
    }
   ],
   "source": [
    "model.fit(trainX, trainY, epochs = 10, callbacks= [callbacks])"
   ]
  },
  {
   "cell_type": "code",
   "execution_count": null,
   "metadata": {
    "colab": {
     "base_uri": "https://localhost:8080/"
    },
    "executionInfo": {
     "elapsed": 8388,
     "status": "ok",
     "timestamp": 1634151398651,
     "user": {
      "displayName": "Alexei Kvaschuk",
      "photoUrl": "https://lh3.googleusercontent.com/a/default-user=s64",
      "userId": "17144558416028762237"
     },
     "user_tz": 240
    },
    "id": "dyT-ZJKv5o7_",
    "outputId": "9ae0ad1f-9c0c-4d23-ff94-340b4d2e34ed"
   },
   "outputs": [
    {
     "name": "stdout",
     "output_type": "stream",
     "text": [
      "313/313 [==============================] - 1s 1ms/step - loss: 0.3836 - accuracy: 0.8583\n"
     ]
    },
    {
     "data": {
      "text/plain": [
       "[0.38357457518577576, 0.858299970626831]"
      ]
     },
     "execution_count": 54,
     "metadata": {},
     "output_type": "execute_result"
    }
   ],
   "source": [
    "model.evaluate(testX, testY)"
   ]
  },
  {
   "cell_type": "code",
   "execution_count": null,
   "metadata": {
    "id": "Zv4YIe1N5o_E"
   },
   "outputs": [],
   "source": []
  },
  {
   "cell_type": "code",
   "execution_count": null,
   "metadata": {
    "id": "IH9bCGsD5pCB"
   },
   "outputs": [],
   "source": []
  },
  {
   "cell_type": "code",
   "execution_count": null,
   "metadata": {
    "id": "vpE_NXACt0eu"
   },
   "outputs": [],
   "source": []
  },
  {
   "cell_type": "code",
   "execution_count": null,
   "metadata": {
    "id": "KlmQ1gsTt0hD"
   },
   "outputs": [],
   "source": []
  },
  {
   "cell_type": "code",
   "execution_count": null,
   "metadata": {
    "id": "SWWC7j2vt0jV"
   },
   "outputs": [],
   "source": []
  },
  {
   "cell_type": "code",
   "execution_count": null,
   "metadata": {
    "id": "AJLL_9tFt0lb"
   },
   "outputs": [],
   "source": []
  }
 ],
 "metadata": {
  "colab": {
   "authorship_tag": "ABX9TyPzSg0i+Tx2zKAcKcppkew8",
   "name": "Fashion MNIST with Callbacks.ipynb",
   "provenance": [
    {
     "file_id": "1voKwi6K4V_LCJ6DlITjXXc04GfCm4dF3",
     "timestamp": 1634151423814
    }
   ]
  },
  "kernelspec": {
   "display_name": "Python 3",
   "language": "python",
   "name": "python3"
  },
  "language_info": {
   "codemirror_mode": {
    "name": "ipython",
    "version": 3
   },
   "file_extension": ".py",
   "mimetype": "text/x-python",
   "name": "python",
   "nbconvert_exporter": "python",
   "pygments_lexer": "ipython3",
   "version": "3.8.2"
  }
 },
 "nbformat": 4,
 "nbformat_minor": 4
}
