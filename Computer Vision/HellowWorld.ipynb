{
 "cells": [
  {
   "cell_type": "code",
   "execution_count": null,
   "metadata": {
    "id": "U2TolpSatzz0"
   },
   "outputs": [],
   "source": [
    "import tensorflow as tf\n",
    "from tensorflow import keras\n",
    "import numpy as np"
   ]
  },
  {
   "cell_type": "code",
   "execution_count": null,
   "metadata": {
    "id": "opUNmRA8t0Pp"
   },
   "outputs": [],
   "source": [
    "xs = np.array([0, 1, 2, 3, 4, 5, 6, 7, 8, 9], dtype=float)\n",
    "ys = np.array([0, 2, 4, 6, 8, 10, 12, 14, 16, 18], dtype=float)"
   ]
  },
  {
   "cell_type": "code",
   "execution_count": null,
   "metadata": {
    "id": "cFu6X8nJt0R9"
   },
   "outputs": [],
   "source": [
    "model = keras.Sequential([keras.layers.Dense(units = 1, input_shape = [1])])"
   ]
  },
  {
   "cell_type": "code",
   "execution_count": null,
   "metadata": {
    "id": "dl2eku8xt0UC"
   },
   "outputs": [],
   "source": [
    "model.compile(optimizer = 'adam', loss='mse', metrics = 'mse')"
   ]
  },
  {
   "cell_type": "code",
   "execution_count": null,
   "metadata": {
    "id": "ddGXJWqpt0WX"
   },
   "outputs": [],
   "source": [
    "model.fit(xs, ys, epochs = 1000)"
   ]
  },
  {
   "cell_type": "code",
   "execution_count": null,
   "metadata": {
    "id": "qmRHXzYqt0Yd"
   },
   "outputs": [],
   "source": [
    "prediction = model.predict([10])"
   ]
  },
  {
   "cell_type": "code",
   "execution_count": null,
   "metadata": {
    "colab": {
     "base_uri": "https://localhost:8080/"
    },
    "executionInfo": {
     "elapsed": 143,
     "status": "ok",
     "timestamp": 1634147830234,
     "user": {
      "displayName": "Alexei Kvaschuk",
      "photoUrl": "https://lh3.googleusercontent.com/a/default-user=s64",
      "userId": "17144558416028762237"
     },
     "user_tz": 240
    },
    "id": "0fKJ-PjBt0ai",
    "outputId": "50f34aab-6b13-4ae3-cfb0-10f83bef581e"
   },
   "outputs": [
    {
     "data": {
      "text/plain": [
       "array([[19.530552]], dtype=float32)"
      ]
     },
     "execution_count": 13,
     "metadata": {},
     "output_type": "execute_result"
    }
   ],
   "source": [
    "prediction"
   ]
  },
  {
   "cell_type": "code",
   "execution_count": null,
   "metadata": {
    "id": "mKUIts7dt0co"
   },
   "outputs": [],
   "source": []
  },
  {
   "cell_type": "code",
   "execution_count": null,
   "metadata": {
    "id": "Y_nu9zHzzUDL"
   },
   "outputs": [],
   "source": []
  },
  {
   "cell_type": "code",
   "execution_count": null,
   "metadata": {
    "id": "wQJloUcPzUFt"
   },
   "outputs": [],
   "source": []
  },
  {
   "cell_type": "code",
   "execution_count": null,
   "metadata": {
    "id": "sUFknAYpzUIT"
   },
   "outputs": [],
   "source": []
  },
  {
   "cell_type": "code",
   "execution_count": null,
   "metadata": {
    "id": "a25CbI-tzUKu"
   },
   "outputs": [],
   "source": []
  },
  {
   "cell_type": "code",
   "execution_count": null,
   "metadata": {
    "id": "737rh51lzUNQ"
   },
   "outputs": [],
   "source": []
  },
  {
   "cell_type": "code",
   "execution_count": null,
   "metadata": {
    "id": "vpE_NXACt0eu"
   },
   "outputs": [],
   "source": []
  },
  {
   "cell_type": "code",
   "execution_count": null,
   "metadata": {
    "id": "KlmQ1gsTt0hD"
   },
   "outputs": [],
   "source": []
  },
  {
   "cell_type": "code",
   "execution_count": null,
   "metadata": {
    "id": "SWWC7j2vt0jV"
   },
   "outputs": [],
   "source": []
  },
  {
   "cell_type": "code",
   "execution_count": null,
   "metadata": {
    "id": "AJLL_9tFt0lb"
   },
   "outputs": [],
   "source": []
  }
 ],
 "metadata": {
  "colab": {
   "authorship_tag": "ABX9TyNLEUGWwvQPmDYY8/eBguJB",
   "name": "HellowWorld.ipynb",
   "provenance": [
    {
     "file_id": "1voKwi6K4V_LCJ6DlITjXXc04GfCm4dF3",
     "timestamp": 1634147959574
    }
   ]
  },
  "kernelspec": {
   "display_name": "Python 3",
   "language": "python",
   "name": "python3"
  },
  "language_info": {
   "codemirror_mode": {
    "name": "ipython",
    "version": 3
   },
   "file_extension": ".py",
   "mimetype": "text/x-python",
   "name": "python",
   "nbconvert_exporter": "python",
   "pygments_lexer": "ipython3",
   "version": "3.8.2"
  }
 },
 "nbformat": 4,
 "nbformat_minor": 4
}
