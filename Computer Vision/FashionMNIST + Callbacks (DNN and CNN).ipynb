{
 "cells": [
  {
   "cell_type": "code",
   "execution_count": 1,
   "metadata": {
    "executionInfo": {
     "elapsed": 2221,
     "status": "ok",
     "timestamp": 1634153219803,
     "user": {
      "displayName": "Alexei Kvaschuk",
      "photoUrl": "https://lh3.googleusercontent.com/a/default-user=s64",
      "userId": "17144558416028762237"
     },
     "user_tz": 240
    },
    "id": "U2TolpSatzz0"
   },
   "outputs": [],
   "source": [
    "import tensorflow as tf\n",
    "from tensorflow import keras\n",
    "import numpy as np"
   ]
  },
  {
   "cell_type": "code",
   "execution_count": 2,
   "metadata": {
    "executionInfo": {
     "elapsed": 930,
     "status": "ok",
     "timestamp": 1634153220731,
     "user": {
      "displayName": "Alexei Kvaschuk",
      "photoUrl": "https://lh3.googleusercontent.com/a/default-user=s64",
      "userId": "17144558416028762237"
     },
     "user_tz": 240
    },
    "id": "mKUIts7dt0co"
   },
   "outputs": [],
   "source": [
    "mnist = keras.datasets.fashion_mnist"
   ]
  },
  {
   "cell_type": "code",
   "execution_count": null,
   "metadata": {
    "id": "Y_nu9zHzzUDL"
   },
   "outputs": [],
   "source": [
    "((trainX, trainY), (testX, testY)) = mnist.load_data()"
   ]
  },
  {
   "cell_type": "code",
   "execution_count": 4,
   "metadata": {
    "executionInfo": {
     "elapsed": 6,
     "status": "ok",
     "timestamp": 1634153221559,
     "user": {
      "displayName": "Alexei Kvaschuk",
      "photoUrl": "https://lh3.googleusercontent.com/a/default-user=s64",
      "userId": "17144558416028762237"
     },
     "user_tz": 240
    },
    "id": "_iyfDgGv6X2J"
   },
   "outputs": [],
   "source": [
    "import matplotlib.pyplot as plt"
   ]
  },
  {
   "cell_type": "code",
   "execution_count": 5,
   "metadata": {
    "colab": {
     "base_uri": "https://localhost:8080/",
     "height": 283
    },
    "executionInfo": {
     "elapsed": 397,
     "status": "ok",
     "timestamp": 1634153221951,
     "user": {
      "displayName": "Alexei Kvaschuk",
      "photoUrl": "https://lh3.googleusercontent.com/a/default-user=s64",
      "userId": "17144558416028762237"
     },
     "user_tz": 240
    },
    "id": "MoR8RveJ6X53",
    "outputId": "1ba2b22d-7fd3-427a-f46f-61bbaab01c07"
   },
   "outputs": [
    {
     "data": {
      "text/plain": [
       "<matplotlib.image.AxesImage at 0x7f1e2aa7bdd0>"
      ]
     },
     "execution_count": 5,
     "metadata": {},
     "output_type": "execute_result"
    },
    {
     "data": {
      "image/png": "[encoded data removed]",
      "text/plain": [
       "<Figure size 432x288 with 1 Axes>"
      ]
     },
     "metadata": {
      "needs_background": "light"
     },
     "output_type": "display_data"
    }
   ],
   "source": [
    "plt.imshow(trainX[42])"
   ]
  },
  {
   "cell_type": "code",
   "execution_count": 7,
   "metadata": {
    "colab": {
     "base_uri": "https://localhost:8080/"
    },
    "executionInfo": {
     "elapsed": 255,
     "status": "ok",
     "timestamp": 1634153228330,
     "user": {
      "displayName": "Alexei Kvaschuk",
      "photoUrl": "https://lh3.googleusercontent.com/a/default-user=s64",
      "userId": "17144558416028762237"
     },
     "user_tz": 240
    },
    "id": "wQJloUcPzUFt",
    "outputId": "f6803b09-0f18-4b9b-c1df-f5755ea61a86"
   },
   "outputs": [
    {
     "data": {
      "text/plain": [
       "(28, 28)"
      ]
     },
     "execution_count": 7,
     "metadata": {},
     "output_type": "execute_result"
    }
   ],
   "source": [
    "trainX[0].shape"
   ]
  },
  {
   "cell_type": "code",
   "execution_count": 8,
   "metadata": {
    "executionInfo": {
     "elapsed": 169,
     "status": "ok",
     "timestamp": 1634153229510,
     "user": {
      "displayName": "Alexei Kvaschuk",
      "photoUrl": "https://lh3.googleusercontent.com/a/default-user=s64",
      "userId": "17144558416028762237"
     },
     "user_tz": 240
    },
    "id": "sUFknAYpzUIT"
   },
   "outputs": [],
   "source": [
    "model_DNN = keras.Sequential(\n",
    "    [keras.layers.Flatten(input_shape = (28, 28)),\n",
    "     keras.layers.Dense(units = 128, activation='relu'),\n",
    "     keras.layers.Dense(128, activation='relu'),\n",
    "     keras.layers.Dense(10, activation='softmax')\n",
    "    ]\n",
    ")"
   ]
  },
  {
   "cell_type": "code",
   "execution_count": 9,
   "metadata": {
    "executionInfo": {
     "elapsed": 2,
     "status": "ok",
     "timestamp": 1634153230557,
     "user": {
      "displayName": "Alexei Kvaschuk",
      "photoUrl": "https://lh3.googleusercontent.com/a/default-user=s64",
      "userId": "17144558416028762237"
     },
     "user_tz": 240
    },
    "id": "a25CbI-tzUKu"
   },
   "outputs": [],
   "source": [
    "model_DNN.compile(optimizer = 'adam', loss = 'sparse_categorical_crossentropy', metrics=['accuracy'])"
   ]
  },
  {
   "cell_type": "code",
   "execution_count": 10,
   "metadata": {
    "executionInfo": {
     "elapsed": 2,
     "status": "ok",
     "timestamp": 1634153231372,
     "user": {
      "displayName": "Alexei Kvaschuk",
      "photoUrl": "https://lh3.googleusercontent.com/a/default-user=s64",
      "userId": "17144558416028762237"
     },
     "user_tz": 240
    },
    "id": "lIuesoAUAIs2"
   },
   "outputs": [],
   "source": [
    "class MyCallback(keras.callbacks.Callback):\n",
    "  def on_epoch_end(self, epoch, logs = {}):\n",
    "    if logs['loss'] < 0.3:\n",
    "      print(f'Early stopping on epoch {epoch}')\n",
    "      self.model.stop_training = True\n"
   ]
  },
  {
   "cell_type": "code",
   "execution_count": 11,
   "metadata": {
    "executionInfo": {
     "elapsed": 2,
     "status": "ok",
     "timestamp": 1634153231852,
     "user": {
      "displayName": "Alexei Kvaschuk",
      "photoUrl": "https://lh3.googleusercontent.com/a/default-user=s64",
      "userId": "17144558416028762237"
     },
     "user_tz": 240
    },
    "id": "eLFGwW_jAIws"
   },
   "outputs": [],
   "source": [
    "callbacks = MyCallback()"
   ]
  },
  {
   "cell_type": "code",
   "execution_count": 12,
   "metadata": {
    "executionInfo": {
     "elapsed": 180,
     "status": "ok",
     "timestamp": 1634153232833,
     "user": {
      "displayName": "Alexei Kvaschuk",
      "photoUrl": "https://lh3.googleusercontent.com/a/default-user=s64",
      "userId": "17144558416028762237"
     },
     "user_tz": 240
    },
    "id": "cOLtI-Cb5wBT"
   },
   "outputs": [],
   "source": [
    "trainX = trainX / 255.0\n",
    "testX = testX / 255.0"
   ]
  },
  {
   "cell_type": "code",
   "execution_count": 13,
   "metadata": {
    "colab": {
     "base_uri": "https://localhost:8080/"
    },
    "executionInfo": {
     "elapsed": 25864,
     "status": "ok",
     "timestamp": 1634153258867,
     "user": {
      "displayName": "Alexei Kvaschuk",
      "photoUrl": "https://lh3.googleusercontent.com/a/default-user=s64",
      "userId": "17144558416028762237"
     },
     "user_tz": 240
    },
    "id": "737rh51lzUNQ",
    "outputId": "f4063e89-f36d-48f9-a168-d0d76c376bd2"
   },
   "outputs": [
    {
     "name": "stdout",
     "output_type": "stream",
     "text": [
      "Epoch 1/10\n",
      "1875/1875 [==============================] - 6s 3ms/step - loss: 0.4851 - accuracy: 0.8272\n",
      "Epoch 2/10\n",
      "1875/1875 [==============================] - 5s 3ms/step - loss: 0.3644 - accuracy: 0.8669\n",
      "Epoch 3/10\n",
      "1875/1875 [==============================] - 5s 3ms/step - loss: 0.3312 - accuracy: 0.8779\n",
      "Epoch 4/10\n",
      "1875/1875 [==============================] - 5s 3ms/step - loss: 0.3067 - accuracy: 0.8856\n",
      "Epoch 5/10\n",
      "1875/1875 [==============================] - 5s 3ms/step - loss: 0.2904 - accuracy: 0.8922\n",
      "Early stopping on epoch 4\n"
     ]
    },
    {
     "data": {
      "text/plain": [
       "<keras.callbacks.History at 0x7f1e272b9e50>"
      ]
     },
     "execution_count": 13,
     "metadata": {},
     "output_type": "execute_result"
    }
   ],
   "source": [
    "model_DNN.fit(trainX, trainY, epochs = 10, callbacks= [callbacks])"
   ]
  },
  {
   "cell_type": "code",
   "execution_count": 14,
   "metadata": {
    "colab": {
     "base_uri": "https://localhost:8080/"
    },
    "executionInfo": {
     "elapsed": 16689,
     "status": "ok",
     "timestamp": 1634153275554,
     "user": {
      "displayName": "Alexei Kvaschuk",
      "photoUrl": "https://lh3.googleusercontent.com/a/default-user=s64",
      "userId": "17144558416028762237"
     },
     "user_tz": 240
    },
    "id": "dyT-ZJKv5o7_",
    "outputId": "77d9baae-c185-493a-c965-9e80c3fdb1a0"
   },
   "outputs": [
    {
     "name": "stdout",
     "output_type": "stream",
     "text": [
      "313/313 [==============================] - 1s 1ms/step - loss: 0.3567 - accuracy: 0.8704\n"
     ]
    },
    {
     "data": {
      "text/plain": [
       "[0.3567279279232025, 0.8704000115394592]"
      ]
     },
     "execution_count": 14,
     "metadata": {},
     "output_type": "execute_result"
    }
   ],
   "source": [
    "model_DNN.evaluate(testX, testY)"
   ]
  },
  {
   "cell_type": "code",
   "execution_count": null,
   "metadata": {
    "id": "LHdtIky4GCGT"
   },
   "outputs": [],
   "source": []
  },
  {
   "cell_type": "markdown",
   "metadata": {
    "id": "JWU8pU5mGCwI"
   },
   "source": [
    "## **Convolutional Model**"
   ]
  },
  {
   "cell_type": "code",
   "execution_count": 15,
   "metadata": {
    "executionInfo": {
     "elapsed": 474,
     "status": "ok",
     "timestamp": 1634153276534,
     "user": {
      "displayName": "Alexei Kvaschuk",
      "photoUrl": "https://lh3.googleusercontent.com/a/default-user=s64",
      "userId": "17144558416028762237"
     },
     "user_tz": 240
    },
    "id": "-6rw1obIGCLA"
   },
   "outputs": [],
   "source": [
    "((trainX, trainY), (testX, testY)) = mnist.load_data()"
   ]
  },
  {
   "cell_type": "code",
   "execution_count": 16,
   "metadata": {
    "executionInfo": {
     "elapsed": 161,
     "status": "ok",
     "timestamp": 1634153276694,
     "user": {
      "displayName": "Alexei Kvaschuk",
      "photoUrl": "https://lh3.googleusercontent.com/a/default-user=s64",
      "userId": "17144558416028762237"
     },
     "user_tz": 240
    },
    "id": "yJw8rIrQGCPj"
   },
   "outputs": [],
   "source": [
    "trainX = trainX.reshape(60000, 28, 28, 1)\n",
    "testX = testX.reshape(10000, 28, 28, 1)\n",
    "trainX = trainX / 255.0\n",
    "testX = testX / 255.0"
   ]
  },
  {
   "cell_type": "code",
   "execution_count": 17,
   "metadata": {
    "executionInfo": {
     "elapsed": 113,
     "status": "ok",
     "timestamp": 1634153279047,
     "user": {
      "displayName": "Alexei Kvaschuk",
      "photoUrl": "https://lh3.googleusercontent.com/a/default-user=s64",
      "userId": "17144558416028762237"
     },
     "user_tz": 240
    },
    "id": "Zv4YIe1N5o_E"
   },
   "outputs": [],
   "source": [
    "from keras.layers import Conv2D, MaxPooling2D, Flatten, Dense"
   ]
  },
  {
   "cell_type": "code",
   "execution_count": 18,
   "metadata": {
    "executionInfo": {
     "elapsed": 3,
     "status": "ok",
     "timestamp": 1634153279651,
     "user": {
      "displayName": "Alexei Kvaschuk",
      "photoUrl": "https://lh3.googleusercontent.com/a/default-user=s64",
      "userId": "17144558416028762237"
     },
     "user_tz": 240
    },
    "id": "dWldTlvhBMAp"
   },
   "outputs": [],
   "source": [
    "model_CNN = keras.Sequential([\n",
    "      Conv2D(64, (3,3), activation = 'relu', input_shape = (28, 28, 1)),\n",
    "      MaxPooling2D(2, 2),\n",
    "      Conv2D(64, (3,3), activation = 'relu'),\n",
    "      MaxPooling2D(2, 2),\n",
    "      Flatten(),\n",
    "      Dense(128, activation = 'relu'),\n",
    "      Dense(10, activation= 'softmax')\n",
    "])"
   ]
  },
  {
   "cell_type": "code",
   "execution_count": 19,
   "metadata": {
    "executionInfo": {
     "elapsed": 2,
     "status": "ok",
     "timestamp": 1634153280053,
     "user": {
      "displayName": "Alexei Kvaschuk",
      "photoUrl": "https://lh3.googleusercontent.com/a/default-user=s64",
      "userId": "17144558416028762237"
     },
     "user_tz": 240
    },
    "id": "hNuSqK_oBMEe"
   },
   "outputs": [],
   "source": [
    "model_CNN.compile(optimizer = 'adam', loss = 'sparse_categorical_crossentropy', metrics=['accuracy'])"
   ]
  },
  {
   "cell_type": "code",
   "execution_count": 20,
   "metadata": {
    "colab": {
     "base_uri": "https://localhost:8080/"
    },
    "executionInfo": {
     "elapsed": 3,
     "status": "ok",
     "timestamp": 1634153280612,
     "user": {
      "displayName": "Alexei Kvaschuk",
      "photoUrl": "https://lh3.googleusercontent.com/a/default-user=s64",
      "userId": "17144558416028762237"
     },
     "user_tz": 240
    },
    "id": "i4Gy4LxmEpbT",
    "outputId": "c9d7691f-b566-41d0-c009-92ba1f2c898e"
   },
   "outputs": [
    {
     "name": "stdout",
     "output_type": "stream",
     "text": [
      "Model: \"sequential_1\"\n",
      "_________________________________________________________________\n",
      "Layer (type)                 Output Shape              Param #   \n",
      "=================================================================\n",
      "conv2d (Conv2D)              (None, 26, 26, 64)        640       \n",
      "_________________________________________________________________\n",
      "max_pooling2d (MaxPooling2D) (None, 13, 13, 64)        0         \n",
      "_________________________________________________________________\n",
      "conv2d_1 (Conv2D)            (None, 11, 11, 64)        36928     \n",
      "_________________________________________________________________\n",
      "max_pooling2d_1 (MaxPooling2 (None, 5, 5, 64)          0         \n",
      "_________________________________________________________________\n",
      "flatten_1 (Flatten)          (None, 1600)              0         \n",
      "_________________________________________________________________\n",
      "dense_3 (Dense)              (None, 128)               204928    \n",
      "_________________________________________________________________\n",
      "dense_4 (Dense)              (None, 10)                1290      \n",
      "=================================================================\n",
      "Total params: 243,786\n",
      "Trainable params: 243,786\n",
      "Non-trainable params: 0\n",
      "_________________________________________________________________\n"
     ]
    }
   ],
   "source": [
    "model_CNN.summary()"
   ]
  },
  {
   "cell_type": "code",
   "execution_count": 21,
   "metadata": {
    "colab": {
     "base_uri": "https://localhost:8080/"
    },
    "executionInfo": {
     "elapsed": 192931,
     "status": "ok",
     "timestamp": 1634153490733,
     "user": {
      "displayName": "Alexei Kvaschuk",
      "photoUrl": "https://lh3.googleusercontent.com/a/default-user=s64",
      "userId": "17144558416028762237"
     },
     "user_tz": 240
    },
    "id": "e0h84AmJBMIP",
    "outputId": "337a0ec4-4d4a-4c6e-ec72-8cd7cd85db03"
   },
   "outputs": [
    {
     "name": "stdout",
     "output_type": "stream",
     "text": [
      "Epoch 1/10\n",
      "1875/1875 [==============================] - 96s 51ms/step - loss: 0.4412 - accuracy: 0.8391\n",
      "Epoch 2/10\n",
      "1875/1875 [==============================] - 96s 51ms/step - loss: 0.2953 - accuracy: 0.8918\n",
      "Early stopping on epoch 1\n"
     ]
    },
    {
     "data": {
      "text/plain": [
       "<keras.callbacks.History at 0x7f1e27173750>"
      ]
     },
     "execution_count": 21,
     "metadata": {},
     "output_type": "execute_result"
    }
   ],
   "source": [
    "model_CNN.fit(trainX, trainY, epochs = 10, callbacks= [callbacks])\n"
   ]
  },
  {
   "cell_type": "code",
   "execution_count": 22,
   "metadata": {
    "colab": {
     "base_uri": "https://localhost:8080/"
    },
    "executionInfo": {
     "elapsed": 14325,
     "status": "ok",
     "timestamp": 1634153505050,
     "user": {
      "displayName": "Alexei Kvaschuk",
      "photoUrl": "https://lh3.googleusercontent.com/a/default-user=s64",
      "userId": "17144558416028762237"
     },
     "user_tz": 240
    },
    "id": "Ev6VwENbIG1G",
    "outputId": "1d841870-1713-4c23-c122-b173a39883a2"
   },
   "outputs": [
    {
     "name": "stdout",
     "output_type": "stream",
     "text": [
      "313/313 [==============================] - 4s 14ms/step - loss: 0.3246 - accuracy: 0.8822\n"
     ]
    },
    {
     "data": {
      "text/plain": [
       "[0.3246442973613739, 0.8822000026702881]"
      ]
     },
     "execution_count": 22,
     "metadata": {},
     "output_type": "execute_result"
    }
   ],
   "source": [
    "model_CNN.evaluate(testX, testY)"
   ]
  },
  {
   "cell_type": "markdown",
   "metadata": {
    "id": "zhpsf7poGUrD"
   },
   "source": [
    "# Visualizing the Convolutions and Pooling\n",
    "\n",
    "This code will show us the convolutions graphically. The print (test_labels[:100]) shows us the first 100 labels in the test set, and you can see that the ones at index 0, index 23 and index 28 are all the same value (9). They're all shoes. Let's take a look at the result of running the convolution on each, and you'll begin to see common features between them emerge. Now, when the DNN is training on that data, it's working with a lot less, and it's perhaps finding a commonality between shoes based on this convolution/pooling combination."
   ]
  },
  {
   "cell_type": "code",
   "execution_count": 23,
   "metadata": {
    "colab": {
     "base_uri": "https://localhost:8080/",
     "height": 268
    },
    "executionInfo": {
     "elapsed": 2579,
     "status": "ok",
     "timestamp": 1634153508162,
     "user": {
      "displayName": "Alexei Kvaschuk",
      "photoUrl": "https://lh3.googleusercontent.com/a/default-user=s64",
      "userId": "17144558416028762237"
     },
     "user_tz": 240
    },
    "id": "IH9bCGsD5pCB",
    "outputId": "d78fb8ee-6597-4b19-da94-bce69eb322bd"
   },
   "outputs": [
    {
     "data": {
      "image/png": "[encoded data removed]",
      "text/plain": [
       "<Figure size 432x288 with 12 Axes>"
      ]
     },
     "metadata": {
      "needs_background": "light"
     },
     "output_type": "display_data"
    }
   ],
   "source": [
    "import matplotlib.pyplot as plt\n",
    "f, axarr = plt.subplots(3,4)\n",
    "FIRST_IMAGE=0\n",
    "SECOND_IMAGE=7\n",
    "THIRD_IMAGE=26\n",
    "CONVOLUTION_NUMBER = 1\n",
    "from tensorflow.keras import models\n",
    "layer_outputs = [layer.output for layer in model_CNN.layers]\n",
    "activation_model = tf.keras.models.Model(inputs = model_CNN.input, outputs = layer_outputs)\n",
    "for x in range(0,4):\n",
    "  f1 = activation_model.predict(testX[FIRST_IMAGE].reshape(1, 28, 28, 1))[x]\n",
    "  axarr[0,x].imshow(f1[0, : , :, CONVOLUTION_NUMBER], cmap='inferno')\n",
    "  axarr[0,x].grid(False)\n",
    "  f2 = activation_model.predict(testX[SECOND_IMAGE].reshape(1, 28, 28, 1))[x]\n",
    "  axarr[1,x].imshow(f2[0, : , :, CONVOLUTION_NUMBER], cmap='inferno')\n",
    "  axarr[1,x].grid(False)\n",
    "  f3 = activation_model.predict(testX[THIRD_IMAGE].reshape(1, 28, 28, 1))[x]\n",
    "  axarr[2,x].imshow(f3[0, : , :, CONVOLUTION_NUMBER], cmap='inferno')\n",
    "  axarr[2,x].grid(False)"
   ]
  },
  {
   "cell_type": "code",
   "execution_count": null,
   "metadata": {
    "id": "vpE_NXACt0eu"
   },
   "outputs": [],
   "source": []
  },
  {
   "cell_type": "code",
   "execution_count": null,
   "metadata": {
    "id": "KlmQ1gsTt0hD"
   },
   "outputs": [],
   "source": []
  },
  {
   "cell_type": "code",
   "execution_count": null,
   "metadata": {
    "id": "SWWC7j2vt0jV"
   },
   "outputs": [],
   "source": []
  },
  {
   "cell_type": "code",
   "execution_count": null,
   "metadata": {
    "id": "AJLL_9tFt0lb"
   },
   "outputs": [],
   "source": []
  }
 ],
 "metadata": {
  "colab": {
   "authorship_tag": "ABX9TyPwi12wc6tlTj8q4RfZhPiX",
   "name": "FashionMNIST + Callbacks (DNN and CNN).ipynb",
   "provenance": [
    {
     "file_id": "1voKwi6K4V_LCJ6DlITjXXc04GfCm4dF3",
     "timestamp": 1634153164920
    }
   ]
  },
  "kernelspec": {
   "display_name": "Python 3",
   "language": "python",
   "name": "python3"
  },
  "language_info": {
   "codemirror_mode": {
    "name": "ipython",
    "version": 3
   },
   "file_extension": ".py",
   "mimetype": "text/x-python",
   "name": "python",
   "nbconvert_exporter": "python",
   "pygments_lexer": "ipython3",
   "version": "3.8.2"
  }
 },
 "nbformat": 4,
 "nbformat_minor": 4
}
